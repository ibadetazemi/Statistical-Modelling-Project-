{
 "cells": [
  {
   "cell_type": "code",
   "execution_count": null,
   "metadata": {},
   "outputs": [],
   "source": []
  },
  {
   "cell_type": "code",
   "execution_count": null,
   "metadata": {},
   "outputs": [],
   "source": [
    "# imports\n",
    "\n",
    "import pandas as pd\n",
    "\n",
    "$ conda install python-citybikes\n",
    "\n",
    " ## On terminal creating env variable\n",
    "export FOURSQUARE_API_KEY='YOUR_API_KEY'\n",
    "    \n",
    "echo $FOURSQUARE_API_KEY"
   ]
  },
  {
   "attachments": {},
   "cell_type": "markdown",
   "metadata": {},
   "source": []
  },
  {
   "attachments": {},
   "cell_type": "markdown",
   "metadata": {},
   "source": [
    "# Foursquare"
   ]
  },
  {
   "attachments": {},
   "cell_type": "markdown",
   "metadata": {},
   "source": [
    "Send a request to Foursquare with a small radius (1000m) for all the bike stations in your city of choice. "
   ]
  },
  {
   "cell_type": "code",
   "execution_count": null,
   "metadata": {},
   "outputs": [],
   "source": [
    "## Using Foursquare to find bike stations with a small radius (1000m) for all the bike stations in NYC.\n",
    "\n",
    "   ## I had sent a request to Foursquare using the codes below and I chose New York City\n",
    "    ## On terminal creating env variable\n",
    "export FOURSQUARE_API_KEY='YOUR_API_KEY'\n",
    "    \n",
    "echo $FOURSQUARE_API_KEY\n",
    "\n",
    "\n",
    "# Get information about bike stations\n",
    "\n",
    "# imports\n",
    "\n",
    "## Importing to notebook\n",
    "import requests\n",
    "import os\n",
    "\n",
    "#set the keys\n",
    "foursquare_id = os.environ[\"\"]\n",
    "foursquare_secret = os.environ[\"\"]\n",
    "\n",
    "## Step 1.) os.environ loads the dictionary with environment variables where os.environ.keys() \n",
    "## are all variable names\n",
    "api_key = os.environ[\"\"]\n",
    "    \n",
    "## Step 2.) Assigning a location\n",
    "location = \"NewYorkCity,USA\"\n",
    "\n",
    "## Step 3.) URL for the Foursquar API\n",
    "\n",
    "import requests\n",
    "\n",
    "url = \"https://api.foursquare.com/v3/places/search?query=bike%20stations&near=New%20York%20City\"\n",
    "\n",
    "headers = {\n",
    "    \"accept\": \"application/json\",\n",
    "    \"Authorization\": \"your_api_key\"\n",
    "}\n",
    "\n",
    "response = requests.get(url, headers=headers)\n",
    "\n",
    "print(response.text)\n"
   ]
  },
  {
   "attachments": {},
   "cell_type": "markdown",
   "metadata": {},
   "source": [
    "Parse through the response to get the POI (such as restaurants, bars, etc) details you want (ratings, name, location, etc)"
   ]
  },
  {
   "cell_type": "code",
   "execution_count": null,
   "metadata": {},
   "outputs": [],
   "source": [
    "## I had sent a request to CitiBikes using the codes below\n",
    "curl https://api.github.com/users/<ibadet_azemi>\n",
    "\n",
    "## By clicking Create a request on the launch pad, and had opened a new tab where I can send requests to different APIs.\n",
    "\n",
    "## Our web browser \"asked\" for the information and GitHub sent the reply using Postman\n",
    "curl https://api.github.com/users/<ibadet_azemi>\n",
    "\n",
    "## Let's get a venues for New York City(lon=-74.052478; lat=40.737604):\n",
    "https://api.foursquare.com/v3/places/search?ll=40.737604,-74.052478&radius=1000"
   ]
  },
  {
   "attachments": {},
   "cell_type": "markdown",
   "metadata": {},
   "source": [
    "Put your parsed results into a DataFrame"
   ]
  },
  {
   "cell_type": "code",
   "execution_count": null,
   "metadata": {},
   "outputs": [],
   "source": [
    "## Putting my parsed results into a Dataframe\n",
    "\n",
    "# DataFrame  \n",
    "dataFrame1 = pd.DataFrame({'Restaurants': ['Momofuku Ko', 'Love Mamma', 'Peter Luger', 'Tapas'],   \n",
    "  \n",
    "  \n",
    "frames = [dataFrame1]  \n",
    "  \n",
    "result = pd.concat(frames)  \n",
    "display(result)  \n",
    "\n",
    "##Pandas Dataframe\n",
    "d = {'one': pd.Series([1., 2., 3.], index=['a', 'b', 'c']), 'two': pd.Series([1., 2., 3., 4.], index=['a', 'b', 'c', 'd'])}\n",
    "\n",
    "##Pandas Dataframe\n",
    "df = pd.DataFrame(d) df\n",
    "\n",
    "##Pandas Dataframe\n",
    "pd.DataFrame(d, index=['d', 'b', 'a'])\n",
    "\n",
    "pd.DataFrame(d, index=['d', 'b', 'a'], columns=['two', 'three'])\n",
    "\n",
    "## Putting my parsed results into a Database\n",
    "\n",
    "## Importing required libraries\n",
    "import numpy as np\n",
    "import pandas as pd \n",
    "\n",
    "## This will transform my results into a JSON file/format then after I will convert to a database\n",
    "first_json = pd.read_json(data)\n",
    "first_json.head()\n",
    "\n",
    "## This normalizes to dataframe that will go on SQlite3\n",
    "\n",
    "import pandas as pd\n",
    "\n",
    "first_json = pd.json_normalize(res_json)\n",
    "first_json.head()\n",
    "\n",
    "## Next step is to convert my JSON file into a database that will go into SQlite database\n",
    "import sqlite3\n",
    "conn = sqlite3.connect('/Users/ibadetazemi/Desktop/Data Science/bikes.db')\n",
    "first_json.to_sql('CityBike', conn, if_exists='replace', index=False) "
   ]
  },
  {
   "attachments": {},
   "cell_type": "markdown",
   "metadata": {},
   "source": [
    "# Yelp"
   ]
  },
  {
   "attachments": {},
   "cell_type": "markdown",
   "metadata": {},
   "source": [
    "Send a request to Yelp with a small radius (1000m) for all the bike stations in your city of choice. "
   ]
  },
  {
   "cell_type": "code",
   "execution_count": null,
   "metadata": {},
   "outputs": [],
   "source": [
    "## Request sent to Yelp with a small radius (1000m) for all the bike stations in NYC\n",
    "\n",
    "import requests\n",
    "\n",
    "url = \"https://api.yelp.com/v3/businesses/search?latitude=40.734786&longitude=-74.050444&radius=1000&categories=bike%20stations&sort_by=best_match&limit=10\"\n",
    "\n",
    "headers = {\n",
    "    \"accept\": \"application/json\",\n",
    "    \"Authorization\": \"bearer your_api_key\"\n",
    "}\n",
    "\n",
    "response = requests.get(url, headers=headers)\n",
    "\n",
    "print(response.text)"
   ]
  },
  {
   "attachments": {},
   "cell_type": "markdown",
   "metadata": {},
   "source": [
    "Parse through the response to get the POI (such as restaurants, bars, etc) details you want (ratings, name, location, etc)"
   ]
  },
  {
   "cell_type": "code",
   "execution_count": null,
   "metadata": {},
   "outputs": [],
   "source": [
    "## (POI: Restaurants)\n",
    "\n",
    "import requests\n",
    "\n",
    "url = \"https://api.yelp.com/v3/businesses/search?latitude=40.734786&longitude=-74.050444&categories=restaurants&sort_by=best_match&limit=20\"\n",
    "\n",
    "headers = {\n",
    "    \"accept\": \"application/json\",\n",
    "    \"Authorization\": \"bearer you_api_key\"\n",
    "}\n",
    "\n",
    "response = requests.get(url, headers=headers)\n",
    "\n",
    "print(response.text)"
   ]
  },
  {
   "attachments": {},
   "cell_type": "markdown",
   "metadata": {},
   "source": [
    "Put your parsed results into a DataFrame"
   ]
  },
  {
   "attachments": {},
   "cell_type": "markdown",
   "metadata": {},
   "source": []
  },
  {
   "attachments": {},
   "cell_type": "markdown",
   "metadata": {},
   "source": [
    "# Comparing Results"
   ]
  },
  {
   "attachments": {},
   "cell_type": "markdown",
   "metadata": {},
   "source": [
    "Which API provided you with more complete data? Provide an explanation. "
   ]
  },
  {
   "attachments": {},
   "cell_type": "markdown",
   "metadata": {},
   "source": [
    "Which API provided you with more complete data? Provide an explanation:\n",
    "\n",
    "Yelp provided me with more complete data. It provided me with more complete data \n",
    "because the information provided was helpful, customizable, accurate and usefull. And most of all it was very easy to use"
   ]
  },
  {
   "attachments": {},
   "cell_type": "markdown",
   "metadata": {},
   "source": [
    "Get the top 10 restaurants according to their rating"
   ]
  },
  {
   "cell_type": "code",
   "execution_count": null,
   "metadata": {},
   "outputs": [],
   "source": [
    "Get the top 10 restaurants according to their rating\n",
    "\n",
    "## Top 10 restaurants according to their rating request:\n",
    "\n",
    "import requests\n",
    "\n",
    "url = \"https://api.yelp.com/v3/businesses/search?latitude=40.734786&longitude=-74.050444&radius=1000&categories=restaurants&sort_by=rating&limit=10\"\n",
    "\n",
    "headers = {\n",
    "    \"accept\": \"application/json\",\n",
    "    \"Authorization\": \"bearer your_api_key\"\n",
    "}\n",
    "\n",
    "response = requests.get(url, headers=headers)\n",
    "\n",
    "print(response.text)\n",
    "\n",
    "## Top 10 restaurants according to their rating response:\n",
    "\n",
    "Anitas Restaurant\n",
    "A Taste Of Italy\n",
    "Taqueria Gardenias\n",
    "hot-dog-jays-little-falls\n",
    "ME Mediterranean Eatery\n",
    "First Wok Chinese Restaurant\n",
    "Camellia Milk Tea\n",
    "Halal Cart\n",
    "Pistache NYC\n",
    "John's Market"
   ]
  }
 ],
 "metadata": {
  "kernelspec": {
   "display_name": "Python 3",
   "language": "python",
   "name": "python3"
  },
  "language_info": {
   "codemirror_mode": {
    "name": "ipython",
    "version": 3
   },
   "file_extension": ".py",
   "mimetype": "text/x-python",
   "name": "python",
   "nbconvert_exporter": "python",
   "pygments_lexer": "ipython3",
   "version": "3.8.5"
  }
 },
 "nbformat": 4,
 "nbformat_minor": 4
}

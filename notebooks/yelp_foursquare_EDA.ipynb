{
 "cells": [
  {
   "cell_type": "markdown",
   "metadata": {},
   "source": [
    "yelp_foursquare_EDA"
   ]
  },
  {
   "cell_type": "code",
   "execution_count": null,
   "metadata": {},
   "outputs": [],
   "source": [
    "# Imports\n",
    "import pandas as pd\n",
    "import json\n",
    "\n",
    "import requests\n",
    "import os\n",
    "\n",
    "# import json_normalize\n",
    "import pandas as pd\n",
    "import requests\n",
    "from pandas.io.json import json_normalize"
   ]
  },
  {
   "cell_type": "code",
   "execution_count": null,
   "metadata": {},
   "outputs": [],
   "source": [
    "# On terminal creating env variable\n",
    "export FOURSQUARE_API_KEY='YOUR_API_KEY'\n",
    "    \n",
    "echo $FOURSQUARE_API_KEY\n",
    "\n",
    "# Set up your API KEY with environment variables\n",
    "import os\n",
    "FOUSQUARE_API_KEY =os.environ[\"FOURSQUARE_API_KEY\"]\n",
    "\n",
    "# Setup the keys\n",
    "foursquare_id = os.environ[\"\"]\n",
    "foursquare_secret = os.environ[\"\"]\n",
    "\n",
    "# Set up your API KEY with environment variables\n",
    "import os\n",
    "FOURSQUARE_API_KEY =os.environ[\"FOURSQUARE_API_KEY\"]"
   ]
  },
  {
   "attachments": {},
   "cell_type": "markdown",
   "metadata": {},
   "source": [
    "# Foursquare"
   ]
  },
  {
   "attachments": {},
   "cell_type": "markdown",
   "metadata": {},
   "source": [
    "Send a request to Foursquare with a small radius (1000m) for all the bike stations in your city of choice. "
   ]
  },
  {
   "cell_type": "code",
   "execution_count": null,
   "metadata": {},
   "outputs": [],
   "source": [
    "# Finding bike stations within 1000m radius in New York City using Foursquare API\n",
    "\n",
    "import requests\n",
    "\n",
    "url = \"https://api.foursquare.com/v3/places/search?query=bike%20stations&ll=40.730610%2C-73.935242&radius=1000\"\n",
    "\n",
    "headers = {\n",
    "    \"accept\": \"application/json\",\n",
    "    \"Authorization\": \"Your_API_KEY\"\n",
    "}\n",
    "\n",
    "response = requests.get(url, headers=headers)\n",
    "\n",
    "print(response.text)"
   ]
  },
  {
   "cell_type": "code",
   "execution_count": null,
   "metadata": {},
   "outputs": [],
   "source": [
    "## Reading the response from the json file\n",
    "res_json = response.json()\n",
    "res_json"
   ]
  },
  {
   "attachments": {},
   "cell_type": "markdown",
   "metadata": {},
   "source": [
    "Put your parsed results into a DataFrame"
   ]
  },
  {
   "cell_type": "code",
   "execution_count": null,
   "metadata": {},
   "outputs": [],
   "source": [
    "# Parsing through response\n",
    "res_json = response.json()\n",
    "res_json"
   ]
  },
  {
   "cell_type": "code",
   "execution_count": null,
   "metadata": {},
   "outputs": [],
   "source": [
    "# Creating a dictionary with key as the column for my foursqaure_df dataframe\n",
    "foursqaure_df={\"name\":[],\n",
    "                \"distance\":[]}\n",
    "\n",
    "# Now will insert data into each column\n",
    "foursqaure_df['name']=foursqaure_df['name']\n",
    "foursqaure_df['distance']=foursqaure_df['distance'].astype(int)\n",
    "foursqaure_df['number_of_bikes']=foursqaure_df['slots']\n",
    "foursqaure_df['Latitude']=foursqaure_df['geocodes.main.latitude'].astype(float)\n",
    "foursqaure_df['Longitude']=foursqaure_df['geocodes.main.longitude'].astype(float)"
   ]
  },
  {
   "cell_type": "code",
   "execution_count": null,
   "metadata": {},
   "outputs": [],
   "source": [
    "# Turn my dictionary into a dataframe\n",
    "foursqaure_df= pd.DataFrame(foursqaure_df)\n",
    "foursqaure_df"
   ]
  },
  {
   "cell_type": "code",
   "execution_count": null,
   "metadata": {},
   "outputs": [],
   "source": [
    "# Save the DataFrame to a CSV file - converting dataframe to CSV\n",
    "foursquare_df.to_csv(\"foursquare.csv\")"
   ]
  },
  {
   "cell_type": "markdown",
   "metadata": {},
   "source": [
    "Putting my parsed restuls into a Dataframe - Pandas dataframe"
   ]
  },
  {
   "cell_type": "code",
   "execution_count": null,
   "metadata": {},
   "outputs": [],
   "source": [
    "## Putting my parsed restuls into a Dataframe\n",
    "## Pandas dataframe\n",
    "\n",
    "foursquare_df = pd.DataFrame({'Bike Stations': ['Birchwood Ave', 'Scott Ave', '4TH St', 'West St'],  \n",
    "                    'Station Name': ['Citi Bike Station', 'Citi Bike Station', 'Citi Bike Station', 'Citi Bike Station'],\n",
    "                    'Longitude': ['-74.031122', '-74.052478', '-74.079016', '-74.030108'],\n",
    "                    'Latitude': ['40.711786', '40.725604', '40.724605', '40.728745'],  \n",
    "                    'Number_of_Bikes':[0,1,10,23]})  \n",
    "  \n",
    "frames = [foursquare_df]  \n",
    "  \n",
    "result = pd.concat(frames)  \n",
    "display(result) "
   ]
  },
  {
   "cell_type": "code",
   "execution_count": null,
   "metadata": {},
   "outputs": [],
   "source": [
    "# Save the DataFrame to a CSV file - converting dataframe to CSV\n",
    "\n",
    "foursquare_df.to_csv(\"foursquare_df.csv\") "
   ]
  },
  {
   "attachments": {},
   "cell_type": "markdown",
   "metadata": {},
   "source": [
    "# Yelp"
   ]
  },
  {
   "attachments": {},
   "cell_type": "markdown",
   "metadata": {},
   "source": [
    "Send a request to Yelp with a small radius (1000m) for all the bike stations in your city of choice. "
   ]
  },
  {
   "cell_type": "code",
   "execution_count": null,
   "metadata": {},
   "outputs": [],
   "source": [
    "## Request sent to Yelp with a small radius (1000m) for all the bike stations in NYC\n",
    "import requests\n",
    "\n",
    "url = \"https://api.yelp.com/v3/businesses/search?latitude=40.734786&longitude=-74.050444&radius=1000&categories=bike%20stations&sort_by=best_match&limit=50\"\n",
    "\n",
    "headers = {\n",
    "    \"accept\": \"application/json\",\n",
    "    \"Authorization\": \"bearer your_api_key\"\n",
    "}\n",
    "\n",
    "response = requests.get(url, headers=headers)\n",
    "print(response.text)"
   ]
  },
  {
   "cell_type": "code",
   "execution_count": null,
   "metadata": {},
   "outputs": [],
   "source": [
    "# Parsing through response\n",
    "res_json = response.json()\n",
    "res_json"
   ]
  },
  {
   "cell_type": "markdown",
   "metadata": {},
   "source": [
    "Put your parsed results into a DataFrame"
   ]
  },
  {
   "cell_type": "code",
   "execution_count": null,
   "metadata": {},
   "outputs": [],
   "source": [
    "# Creating json lists for bike stations in NYC to be included in the dataframe\n",
    "Yelp_id=[]\n",
    "Yelp_name=[]\n",
    "Yelp_latitude=[]\n",
    "Yelp_longitude=[]\n",
    "Yelp_rating=[]\n",
    "Yelp_review_count=[]\n",
    "station_distance=[]\n",
    "station_latitude= []\n",
    "station_longitude=[]"
   ]
  },
  {
   "cell_type": "code",
   "execution_count": null,
   "metadata": {},
   "outputs": [],
   "source": [
    "# Create the first for loop to get data inside the list\n",
    "for i in range(len(yelp_list)):\n",
    "    yelp_list_1= yelp_list[i]['businesses']\n",
    "\n",
    "    # Create the second for loop to get data inside the list\n",
    "    for n in range(len(list_yelp_1)):\n",
    "        station_latitude.append(yelp_list[i]['region']['center']['latitude'])\n",
    "        station_longitude.append(yelp_list[i]['region']['center']['longitude'])\n",
    "        Yelp_id.append(yelp_list_1[n]['id'])\n",
    "        Yelp_name.append(yelp_list_1[n]['name'])\n",
    "        Yelp_latitude.append(yelp_list_1[n]['coordinates']['latitude'])\n",
    "        Yelp_longitude.append(yelp_list_1[n]['coordinates']['longitude'])\n",
    "        station_distance.append(yelp_list_1[n]['distance'])\n",
    "        Yelp_rating.append(yelp_list_1[n]['rating'])\n",
    "        Yelp_review_count.append(yelp_list_1[n]['review_count'])  "
   ]
  },
  {
   "cell_type": "code",
   "execution_count": null,
   "metadata": {},
   "outputs": [],
   "source": [
    "# Dictionary for dataframe - creating a dataframe from the dictionary that I had created\n",
    "import pandas as pd\n",
    "\n",
    "# Create Dict to contain all the info\n",
    "Yelp_info={'yelp_id':Yelp_id,\n",
    "            'yelp_name':Yelp_name,\n",
    "            'yelp_latitude':Yelp_latitude,\n",
    "            'yelp_longitude':Yelp_longitude,\n",
    "            'yelp_rating': Yelp_rating,\n",
    "            'yelp_review_count': Yelp_review_count,\n",
    "            'station_distance': station_distance,\n",
    "            'station_latitude':station_latitude,\n",
    "            'station_longitude':station_longitude\n",
    "        }\n",
    "\n",
    "yelp_df=pd.DataFrame(dictionary) \n",
    "\n",
    "yelp_df.head()"
   ]
  },
  {
   "cell_type": "code",
   "execution_count": null,
   "metadata": {},
   "outputs": [],
   "source": [
    "# Converting my foursquare_df into a CSV\n",
    "yelp_df.to_csv('yelp.csv')"
   ]
  },
  {
   "attachments": {},
   "cell_type": "markdown",
   "metadata": {},
   "source": [
    "Parse through the response to get the POI (such as restaurants, bars, etc) details you want (ratings, name, location, etc)"
   ]
  },
  {
   "cell_type": "code",
   "execution_count": null,
   "metadata": {},
   "outputs": [],
   "source": [
    "## (POI: Restaurants)\n",
    "## Yelp restaurants:\n",
    "import requests\n",
    "\n",
    "url = \"https://api.yelp.com/v3/businesses/search?location=New%20York%20City&attributes=restaurants&sort_by=best_match&limit=50\"\n",
    "\n",
    "headers = {\n",
    "    \"accept\": \"application/json\",\n",
    "    \"Authorization\": \"bearer YOUR_API_KEY\"\n",
    "}\n",
    "\n",
    "response = requests.get(url, headers=headers)\n",
    "\n",
    "print(response.text)\n"
   ]
  },
  {
   "cell_type": "code",
   "execution_count": null,
   "metadata": {},
   "outputs": [],
   "source": [
    "# JSON response\n",
    "res_json = response.json()\n",
    "res_json"
   ]
  },
  {
   "attachments": {},
   "cell_type": "markdown",
   "metadata": {},
   "source": [
    "Put your parsed results into a DataFrame"
   ]
  },
  {
   "cell_type": "code",
   "execution_count": null,
   "metadata": {},
   "outputs": [],
   "source": [
    "# Creating json lists for restaurants in NYC\n",
    "restaurants_name = [] \n",
    "address1 = [] \n",
    "rating = [] \n",
    "distance = [] \n",
    "review_count = []\n",
    "poi_count = []"
   ]
  },
  {
   "cell_type": "code",
   "execution_count": null,
   "metadata": {},
   "outputs": [],
   "source": [
    "# Creating a for loop that will put into lists\n",
    "for i in range(len(response)):\n",
    "    restaurants_name.append(response[i]['alias'])\n",
    "    address1.append(response[i]['location']['address1'])\n",
    "    rating.append(response[i]['rating'])\n",
    "    review_count.append(response[i]['review_count'])\n",
    "    distance.append(response[i]['distance'])\n",
    "    poi_count.append(response[i]['id'])"
   ]
  },
  {
   "cell_type": "code",
   "execution_count": null,
   "metadata": {},
   "outputs": [],
   "source": [
    "# Dictionary for dataframe\n",
    "import pandas as pd\n",
    "\n",
    "dictionary = {'restaurants' : restaurants_name,\n",
    " 'rating' : rating,\n",
    " 'distance' : distance,            \n",
    " 'review_count' : review_count,\n",
    " 'address' : address1,\n",
    " 'poi_count' : poi_count\n",
    "}\n",
    "\n",
    "restaurants_df = pd.DataFrame.from_dict(dictionary, orient='columns')\n",
    "restaurants_df.head()"
   ]
  },
  {
   "cell_type": "code",
   "execution_count": null,
   "metadata": {},
   "outputs": [],
   "source": [
    "# Converting dataframe to a CSV \n",
    "restaurants_df.to_csv('restaurants.csv')"
   ]
  },
  {
   "cell_type": "markdown",
   "metadata": {},
   "source": [
    "Creating a dataframe using pandas"
   ]
  },
  {
   "cell_type": "code",
   "execution_count": null,
   "metadata": {},
   "outputs": [],
   "source": [
    "## Putting my parsed results into a Dataframe\n",
    "restaurants_df = pd.DataFrame({'Restaurants': ['Anitas', 'Taste Of Italy', 'Taqueria Gardenias', 'Golden Diner'],  \n",
    "                          'Address': ['Lexington Ave', '5TH Ave', 'W 29TH St', 'W 29TH St'],\n",
    "                          'Ratings': ['4.5', '4.5', '4.5', '5'], \n",
    "                          'Distance':['33', '5', '15', '45'],\n",
    "                          'Reviews':['43', '15', '36', '60'], \n",
    "                          'POI_Count':[20,15,18,23]})  \n",
    "  \n",
    "  \n",
    "frames = [restaurants_df]  \n",
    "  \n",
    "result = pd.concat(frames)  \n",
    "display(result) "
   ]
  },
  {
   "cell_type": "code",
   "execution_count": null,
   "metadata": {},
   "outputs": [],
   "source": [
    "# Converting restaurants into a dataframe \n",
    "restaurants_df.to_csv('restaurants.csv')"
   ]
  },
  {
   "attachments": {},
   "cell_type": "markdown",
   "metadata": {},
   "source": [
    "# Comparing Results"
   ]
  },
  {
   "cell_type": "markdown",
   "metadata": {},
   "source": [
    "Which API provided you with more complete data? Provide an explanation:"
   ]
  },
  {
   "cell_type": "code",
   "execution_count": null,
   "metadata": {
    "vscode": {
     "languageId": "plaintext"
    }
   },
   "outputs": [],
   "source": [
    "Yelp provided me with more complete data. It provided me with more detailed, customizable data\n",
    "because the information provided was helpful, customizable, accurate and usefull. And most of all it was very easy to use"
   ]
  },
  {
   "cell_type": "markdown",
   "metadata": {},
   "source": [
    "Get the top 10 restaurants according to their rating"
   ]
  },
  {
   "cell_type": "code",
   "execution_count": null,
   "metadata": {},
   "outputs": [],
   "source": [
    "## Top 10 restaurants according to their rating request:\n",
    "import requests\n",
    "\n",
    "url = \"https://api.yelp.com/v3/businesses/search?location=New%20York%20City&term=restaurants&sort_by=rating&limit=10\"\n",
    "\n",
    "headers = {\n",
    "    \"accept\": \"application/json\",\n",
    "    \"Authorization\": \"bearer YOUR_API_KEY\"\n",
    "}\n",
    "\n",
    "response = requests.get(url, headers=headers)\n",
    "\n",
    "print(response.text)"
   ]
  },
  {
   "cell_type": "code",
   "execution_count": null,
   "metadata": {},
   "outputs": [],
   "source": [
    "# Parsing through response\n",
    "res_json = response.json()\n",
    "res_json"
   ]
  }
 ],
 "metadata": {
  "kernelspec": {
   "display_name": "Python 3",
   "language": "python",
   "name": "python3"
  },
  "language_info": {
   "codemirror_mode": {
    "name": "ipython",
    "version": 3
   },
   "file_extension": ".py",
   "mimetype": "text/x-python",
   "name": "python",
   "nbconvert_exporter": "python",
   "pygments_lexer": "ipython3",
   "version": "3.8.5"
  }
 },
 "nbformat": 4,
 "nbformat_minor": 4
}

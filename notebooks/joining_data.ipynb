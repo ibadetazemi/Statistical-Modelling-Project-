{
 "cells": [
  {
   "attachments": {},
   "cell_type": "markdown",
   "metadata": {},
   "source": []
  },
  {
   "attachments": {},
   "cell_type": "markdown",
   "metadata": {},
   "source": [
    "Imports"
   ]
  },
  {
   "cell_type": "code",
   "execution_count": null,
   "metadata": {},
   "outputs": [],
   "source": [
    "# Imports\n",
    "import pandas as pd\n",
    "import json\n",
    "import matplotlib.pyplot as plt\n",
    "import seaborn as sns\n",
    "\n",
    "import pandas as pd  \n",
    "from IPython.display import display "
   ]
  },
  {
   "cell_type": "markdown",
   "metadata": {},
   "source": [
    " Joining data from Part 1 with the data from Part 2 to create a new dataframe:"
   ]
  },
  {
   "cell_type": "code",
   "execution_count": null,
   "metadata": {},
   "outputs": [],
   "source": [
    "# Joinging citybikes_df + restaurants_df together to make one dataframe to convert to CSV\n",
    "citybikes_df = pd.DataFrame()\n",
    "# Append all files together\n",
    "for file in csv_files:\n",
    "            restaurants_df = pd.read_csv(file)\n",
    "            citybikes_df = citybikes_df.append(df_temp, ignore_index=True)\n",
    "citybikes_df"
   ]
  },
  {
   "cell_type": "markdown",
   "metadata": {},
   "source": [
    "Converting dataframe to CSV:"
   ]
  },
  {
   "cell_type": "code",
   "execution_count": null,
   "metadata": {},
   "outputs": [],
   "source": [
    "## converting dataframe to csv\n",
    "citybikes_df.to_csv(\"citybikes.csv\")"
   ]
  },
  {
   "cell_type": "markdown",
   "metadata": {},
   "source": [
    "Data Cleaning Steps:"
   ]
  },
  {
   "cell_type": "code",
   "execution_count": null,
   "metadata": {},
   "outputs": [],
   "source": [
    "## Loading data\n",
    "citybikes = pd.read_csv('citybikes.csv')\n",
    "citybikes"
   ]
  },
  {
   "cell_type": "code",
   "execution_count": null,
   "metadata": {},
   "outputs": [],
   "source": [
    "## Viewing file\n",
    "citybikes"
   ]
  },
  {
   "cell_type": "code",
   "execution_count": null,
   "metadata": {},
   "outputs": [],
   "source": [
    "## Viewing top rows\n",
    "citybikes.head()"
   ]
  },
  {
   "cell_type": "code",
   "execution_count": null,
   "metadata": {},
   "outputs": [],
   "source": [
    "## Viewing file\n",
    "citybikes['distance'].head()"
   ]
  },
  {
   "cell_type": "code",
   "execution_count": null,
   "metadata": {},
   "outputs": [],
   "source": [
    "## Viewing data\n",
    "citybikes.describe()"
   ]
  },
  {
   "cell_type": "code",
   "execution_count": null,
   "metadata": {},
   "outputs": [],
   "source": [
    "## Finding null values\n",
    "citybikes.isnull().sum()"
   ]
  },
  {
   "cell_type": "code",
   "execution_count": null,
   "metadata": {},
   "outputs": [],
   "source": [
    "# Dropping All Rows with Missing Values NaNs/Null values\n",
    "\n",
    "citybikes = citybikes.dropna()\n",
    "print(citybikes)"
   ]
  },
  {
   "cell_type": "code",
   "execution_count": null,
   "metadata": {},
   "outputs": [],
   "source": [
    "# Replacing NaNs/Null values without getting rid of the whole column\n",
    "\n",
    "citybikes = pd.read_csv('citybikes.csv')\n",
    "\n",
    "citybikes.fillna(130, inplace = True)"
   ]
  },
  {
   "cell_type": "code",
   "execution_count": null,
   "metadata": {},
   "outputs": [],
   "source": [
    "# Looking for duplicates\n",
    "citybikes = citybikes.duplicated()"
   ]
  },
  {
   "cell_type": "code",
   "execution_count": null,
   "metadata": {},
   "outputs": [],
   "source": [
    "# Dropping duplicates\n",
    "citybikes.T.drop_duplicates()"
   ]
  },
  {
   "cell_type": "code",
   "execution_count": null,
   "metadata": {},
   "outputs": [],
   "source": [
    "# Finding initial + final dates\n",
    "\n",
    "print(citybikes['Date'].min(),'initial')\n",
    "print(citybikes['Date'].max(),'final')"
   ]
  },
  {
   "cell_type": "code",
   "execution_count": null,
   "metadata": {},
   "outputs": [],
   "source": [
    "# Viewing column names\n",
    "citybikes.dtypes"
   ]
  },
  {
   "cell_type": "code",
   "execution_count": null,
   "metadata": {},
   "outputs": [],
   "source": [
    "# Viewing data in string format to analyze data\n",
    "\n",
    "citybikes = pd.read_csv('citybikes.csv')\n",
    "\n",
    "citybikes = df.dropna()\n",
    "\n",
    "print(citybikes.to_string())"
   ]
  },
  {
   "cell_type": "code",
   "execution_count": null,
   "metadata": {},
   "outputs": [],
   "source": [
    "# Viewing data in another string format to analyze data\n",
    "\n",
    "citybikes = pd.read_csv('citybikes.csv')\n",
    "\n",
    "citybikes = citybikes.dropna()\n",
    "\n",
    "print(citybikes.to_string())"
   ]
  },
  {
   "attachments": {},
   "cell_type": "markdown",
   "metadata": {},
   "source": [
    "Provide a visualization that you used as part of your EDA process. Explain the initial pattern or relationship you discoved through this visualization. "
   ]
  },
  {
   "cell_type": "markdown",
   "metadata": {},
   "source": [
    "EDA: Visualisations (Analysing Data First)"
   ]
  },
  {
   "cell_type": "code",
   "execution_count": null,
   "metadata": {},
   "outputs": [],
   "source": [
    "## Loading data\n",
    "citybikes = pd.read_csv('citybikes.csv')\n",
    "citybikes"
   ]
  },
  {
   "cell_type": "code",
   "execution_count": null,
   "metadata": {},
   "outputs": [],
   "source": [
    "## Viewing data\n",
    "citybikes.describe()"
   ]
  },
  {
   "cell_type": "code",
   "execution_count": null,
   "metadata": {},
   "outputs": [],
   "source": [
    "# Viewing column names\n",
    "citybikes.dtypes"
   ]
  },
  {
   "cell_type": "code",
   "execution_count": null,
   "metadata": {},
   "outputs": [],
   "source": [
    "## Viewing top rows\n",
    "citybikes.head()"
   ]
  },
  {
   "cell_type": "code",
   "execution_count": null,
   "metadata": {},
   "outputs": [],
   "source": [
    "## Finding null values\n",
    "citybikes.isnull().sum()"
   ]
  },
  {
   "cell_type": "code",
   "execution_count": null,
   "metadata": {},
   "outputs": [],
   "source": [
    "# Looking for duplicates\n",
    "citybikes = citybikes.duplicated()"
   ]
  },
  {
   "cell_type": "markdown",
   "metadata": {},
   "source": [
    "EDA: Visualisations"
   ]
  },
  {
   "cell_type": "code",
   "execution_count": null,
   "metadata": {},
   "outputs": [],
   "source": [
    "#Citybikes_heatmap\n",
    "sns.heatmap(data= numeric, annot=True)"
   ]
  },
  {
   "cell_type": "code",
   "execution_count": null,
   "metadata": {},
   "outputs": [],
   "source": [
    "#Citybikes_histogram2\n",
    "citybikes.plot.hist()"
   ]
  },
  {
   "cell_type": "code",
   "execution_count": null,
   "metadata": {},
   "outputs": [],
   "source": [
    "#Citybikes_whiskers\n",
    "sns.boxplot(x=citybikes['Distance'], whis=4)"
   ]
  },
  {
   "cell_type": "code",
   "execution_count": null,
   "metadata": {},
   "outputs": [],
   "source": [
    "#Citybikes_violin\n",
    "sns.violinplot(data=citybikes, y=\"Number of Bikes\")\n",
    "plt.show()"
   ]
  },
  {
   "cell_type": "code",
   "execution_count": null,
   "metadata": {},
   "outputs": [],
   "source": [
    "#Citybikes-bar-graph\n",
    "plt.figure(figsize=(6.4,4.8)) #default size\n",
    "sns.barplot(data=citybikes, x='Ratings', y='Number of Bikes') #averages with error bars\n",
    "\n",
    "plt.show()"
   ]
  },
  {
   "cell_type": "code",
   "execution_count": null,
   "metadata": {},
   "outputs": [],
   "source": [
    "#Citybikes_scatterplot\n",
    "plt.figure(figsize=(15,8))\n",
    "sns.scatterplot(data=citybikes, x='Ratings', y='Number of Bikes', hue='Distance', size='Number of Bikes')\n",
    "\n",
    "plt.show()"
   ]
  },
  {
   "cell_type": "code",
   "execution_count": null,
   "metadata": {},
   "outputs": [],
   "source": [
    "#Citybikes_pairplot\n",
    "fig_5=sns.pairplot(data=citybikes,\n",
    "                    kind='reg', \n",
    "                    diag_kind='kde',\n",
    "                    plot_kws={'line_kws':{'color':'green'}})\n",
    "plt.show()"
   ]
  },
  {
   "cell_type": "code",
   "execution_count": null,
   "metadata": {},
   "outputs": [],
   "source": [
    "#Citybikes_histogram\n",
    "axes[0,0].hist(citybikes['Number of Bikes'])\n",
    "axes[0,0].set_title('[Matplotlib] Histogram of Number of Bikes')\n",
    "\n",
    "axes[0,1].boxplot(citybikes['Ratings'])\n",
    "axes[0,1].set_title('[Matplotlib] Box-Plot of Ratings')\n",
    "\n",
    "sns.histplot(ax=axes[1,0], data=citybikes, x=\"Distance\")\n",
    "axes[1,0].set_title('[Seaborn] Histogram of Distance')\n",
    "\n",
    "sns.boxplot(ax=axes[1,1], data=citybikes, y=\"Bike Stations\")\n",
    "axes[1,1].set_title('[Seaborn] Box-Plot of Bike Stations')\n",
    "\n",
    "plt.show()"
   ]
  },
  {
   "cell_type": "code",
   "execution_count": null,
   "metadata": {},
   "outputs": [],
   "source": [
    "#Citybikes_plotgraph2\n",
    "fig_2=sns.scatterplot(data=citybikes,\n",
    "            y ='Latitude',\n",
    "            x ='Longitude',\n",
    "            hue='Ratings',\n",
    "            size='Ratings',\n",
    "            sizes=(0, 200))\n",
    "fig_2.set(title='Restaurants in New York City')"
   ]
  },
  {
   "cell_type": "code",
   "execution_count": null,
   "metadata": {},
   "outputs": [],
   "source": [
    "#Citybikes_plotgraph\n",
    "fig_1=sns.scatterplot(data=citybikes,\n",
    "            y ='Latitude',\n",
    "            x ='Longitude',\n",
    "            hue='Number of Bikes',\n",
    "            size='Number of Bikes',\n",
    "            sizes=(0, 200))\n",
    "fig_1.set(title='Available bikes in New York City')"
   ]
  },
  {
   "cell_type": "code",
   "execution_count": null,
   "metadata": {},
   "outputs": [],
   "source": [
    "#Citybikes_scatterplot graph\n",
    "sns.jointplot(data=citybikes, \n",
    "              x=\"Ratings\", \n",
    "              y=\"Number of Bikes\",\n",
    "              height = 8    # a jointplot is a square by default \n",
    "            )\n",
    "plt.suptitle(\"JoinPlot Comparing Number of Bikes to Ratings\", y=1)\n",
    "\n",
    "plt.show()"
   ]
  },
  {
   "cell_type": "code",
   "execution_count": null,
   "metadata": {},
   "outputs": [],
   "source": [
    "#Citybikes_predictions\n",
    "sns.lmplot(x='POI_Count', y='Number of Bikes', data=citybikess, line_kws={'color': 'black'});"
   ]
  },
  {
   "cell_type": "markdown",
   "metadata": {},
   "source": [
    "Explain the initial pattern or relationship you discovered through this visualization"
   ]
  },
  {
   "cell_type": "code",
   "execution_count": null,
   "metadata": {},
   "outputs": [],
   "source": [
    "# Explain the initial pattern or relationship you discovered through this visualization:\n",
    "\n",
    "The pattern or relationship that I had discovered through this visualization is that the \n",
    "bike stations run out of bikes fast and that there are not enough bikes for the whole city.\n",
    "And there are outliers, null values as well as duplicates."
   ]
  },
  {
   "attachments": {},
   "cell_type": "markdown",
   "metadata": {},
   "source": [
    "# Database"
   ]
  },
  {
   "attachments": {},
   "cell_type": "markdown",
   "metadata": {},
   "source": [
    "Put all your results in an SQLite3 database (remember, SQLite stores its databases as files in your local machine - make sure to create your database in your project's data/ directory!)"
   ]
  },
  {
   "cell_type": "code",
   "execution_count": null,
   "metadata": {},
   "outputs": [],
   "source": [
    "# Imports\n",
    "import sqlite3\n",
    "from sqlite3 import Error"
   ]
  },
  {
   "cell_type": "markdown",
   "metadata": {},
   "source": [
    "Will create the database in the data folder"
   ]
  },
  {
   "cell_type": "code",
   "execution_count": null,
   "metadata": {},
   "outputs": [],
   "source": [
    "# Creating a citybikes database into the data folder\n",
    "def create_connection(db_file):\n",
    "    \"\"\" create a database connection to a SQLite database \"\"\"\n",
    "    conn = None\n",
    "    try:\n",
    "        conn = sqlite3.connect(r\"/Users/ibadetazemi/Desktop/Data Science/Statistical_Modeling_Project_2023/city_bikes.db\")\n",
    "        print(sqlite3.version)\n",
    "    except Error as e:\n",
    "        print(e)\n",
    "    finally:\n",
    "        if conn:\n",
    "            conn.close()\n",
    "\n",
    "\n",
    "if __name__ == '__main__':\n",
    "    create_connection(r\"/Users/ibadetazemi/Desktop/Data Science/Statistical_Modeling_Project-2023/city_bikes.db\")"
   ]
  },
  {
   "cell_type": "markdown",
   "metadata": {},
   "source": [
    "Creating the table for the database"
   ]
  },
  {
   "cell_type": "code",
   "execution_count": null,
   "metadata": {},
   "outputs": [],
   "source": [
    "# Creating a connection to the database\n",
    "conn = sqlite3.connect(r\"/Users/ibadetazemi/Desktop/Data Science/Statistical_Modeling_Project_2023/city_bikes.db\")\n",
    "# Creating a cursor object\n",
    "c = conn.cursor()\n",
    "# Creating a table in the database to store my citybikes dataframe\n",
    "c.execute(\"\"\"CREATE TABLE IF NOT EXISTS stations (\n",
    "                station_name TEXT , \n",
    "                number_of_bikes INTERGER NOT NULL, \n",
    "                empty_slots INTERGER NOT NULL,\n",
    "                longitude FLOAT NOT NULL,\n",
    "                latitude FLOAT NOT NULL,\n",
    "                number_services INTERGER NOT NULL,\n",
    "                number_landmark INTERGER NOT NULL\n",
    "                );\n",
    "        \"\"\")\n",
    "# Insert the data from the dataframe into the table\n",
    "for i, row in citybike_df.iterrows():\n",
    "    c.execute(\"\"\"INSERT INTO stations VALUES (?, ?, ?, ?, ?, ?, ?)\"\"\", row)\n",
    "# Commit the changes to the database\n",
    "conn.commit()\n",
    "# Close the connection to the database\n",
    "conn.close()"
   ]
  },
  {
   "attachments": {},
   "cell_type": "markdown",
   "metadata": {},
   "source": [
    "Look at the data before and after the join to validate your data."
   ]
  },
  {
   "cell_type": "code",
   "execution_count": null,
   "metadata": {},
   "outputs": [],
   "source": [
    "# Looking at data to validate data\n",
    "def create_connection(path):\n",
    "    connection = None\n",
    "    try:\n",
    "        connection = sqlite3.connect(r\"/Users/ibadetazemi/Desktop/Data Science/Statistical_Modeling_Project_2023/city_bikes.db\")\n",
    "        print(\"Connection to SQLite DB successful\")\n",
    "    except Error as e:\n",
    "        print(f\"The error '{e}' occurred\")\n",
    "\n",
    "    return connection"
   ]
  },
  {
   "cell_type": "code",
   "execution_count": null,
   "metadata": {},
   "outputs": [],
   "source": [
    "# Viewing data\n",
    "connection = create_connection(\"sm_app.sqlite\")\n",
    "def execute_read_query(connection, query):\n",
    "    cursor = connection.cursor()\n",
    "    result = None\n",
    "    try:\n",
    "        cursor.execute(query)\n",
    "        result = cursor.fetchall()\n",
    "        return result\n",
    "    except Error as e:\n",
    "        print(f\"The error '{e}' occurred\")\n",
    "\n",
    "\n",
    "select_stationname = \"SELECT station_name from stations\"\n",
    "execute_read_query( connection, select_stationname )"
   ]
  }
 ],
 "metadata": {
  "kernelspec": {
   "display_name": "Python 3",
   "language": "python",
   "name": "python3"
  },
  "language_info": {
   "codemirror_mode": {
    "name": "ipython",
    "version": 3
   },
   "file_extension": ".py",
   "mimetype": "text/x-python",
   "name": "python",
   "nbconvert_exporter": "python",
   "pygments_lexer": "ipython3",
   "version": "3.8.5"
  }
 },
 "nbformat": 4,
 "nbformat_minor": 4
}
